{
 "cells": [
  {
   "cell_type": "code",
   "execution_count": 1,
   "metadata": {},
   "outputs": [],
   "source": [
    "import pandas as pd\n",
    "import urllib.request\n",
    "from self_portrait_url import *\n",
    "from color_palette_percentage_bar_from_img import *\n",
    "import re\n",
    "import os\n",
    "import glob\n",
    "import cv2\n"
   ]
  },
  {
   "cell_type": "code",
   "execution_count": null,
   "metadata": {},
   "outputs": [],
   "source": []
  },
  {
   "cell_type": "markdown",
   "metadata": {},
   "source": [
    "### parse the table on wiki"
   ]
  },
  {
   "cell_type": "code",
   "execution_count": 2,
   "metadata": {},
   "outputs": [],
   "source": [
    "\n",
    "# read the html of wikipedia page, the result will be a list\n",
    "l = pd.read_html('https://en.wikipedia.org/wiki/List_of_works_by_Vincent_van_Gogh') \n",
    "\n",
    "# store the result in a dataframe\n",
    "output = pd.DataFrame(l[0])\n",
    "\n",
    "# save the info of rows contains self-portrait\n",
    "portrait_idx_list = []\n",
    "\n",
    "title = output[2]\n",
    "for i in range(len(title)):\n",
    "    if 'Self-Portrait' in title[i]:\n",
    "        portrait_idx_list.append(i)\n",
    "        \n",
    "#         print(title[i])"
   ]
  },
  {
   "cell_type": "code",
   "execution_count": 3,
   "metadata": {},
   "outputs": [
    {
     "data": {
      "text/html": [
       "<div>\n",
       "<style scoped>\n",
       "    .dataframe tbody tr th:only-of-type {\n",
       "        vertical-align: middle;\n",
       "    }\n",
       "\n",
       "    .dataframe tbody tr th {\n",
       "        vertical-align: top;\n",
       "    }\n",
       "\n",
       "    .dataframe thead th {\n",
       "        text-align: right;\n",
       "    }\n",
       "</style>\n",
       "<table border=\"1\" class=\"dataframe\">\n",
       "  <thead>\n",
       "    <tr style=\"text-align: right;\">\n",
       "      <th></th>\n",
       "      <th>original_table_index</th>\n",
       "      <th>img_url</th>\n",
       "      <th>img_name</th>\n",
       "      <th>year</th>\n",
       "    </tr>\n",
       "  </thead>\n",
       "  <tbody>\n",
       "    <tr>\n",
       "      <th>270</th>\n",
       "      <td>270</td>\n",
       "      <td>https://upload.wikimedia.org/wikipedia/commons...</td>\n",
       "      <td>Self-Portrait</td>\n",
       "      <td>Autumn 1886</td>\n",
       "    </tr>\n",
       "    <tr>\n",
       "      <th>271</th>\n",
       "      <td>271</td>\n",
       "      <td>https://upload.wikimedia.org/wikipedia/commons...</td>\n",
       "      <td>Self-Portrait with Pipe</td>\n",
       "      <td>1886</td>\n",
       "    </tr>\n",
       "    <tr>\n",
       "      <th>272</th>\n",
       "      <td>272</td>\n",
       "      <td>https://upload.wikimedia.org/wikipedia/commons...</td>\n",
       "      <td>Self-Portrait with Dark Felt Hat at the Easel</td>\n",
       "      <td>1886</td>\n",
       "    </tr>\n",
       "    <tr>\n",
       "      <th>278</th>\n",
       "      <td>278</td>\n",
       "      <td>https://upload.wikimedia.org/wikipedia/commons...</td>\n",
       "      <td>Self-Portrait with Pipe</td>\n",
       "      <td>1886</td>\n",
       "    </tr>\n",
       "    <tr>\n",
       "      <th>279</th>\n",
       "      <td>279</td>\n",
       "      <td>https://upload.wikimedia.org/wikipedia/commons...</td>\n",
       "      <td>Self-Portrait with Dark Felt Hat</td>\n",
       "      <td>1886</td>\n",
       "    </tr>\n",
       "  </tbody>\n",
       "</table>\n",
       "</div>"
      ],
      "text/plain": [
       "    original_table_index                                            img_url  \\\n",
       "270                  270  https://upload.wikimedia.org/wikipedia/commons...   \n",
       "271                  271  https://upload.wikimedia.org/wikipedia/commons...   \n",
       "272                  272  https://upload.wikimedia.org/wikipedia/commons...   \n",
       "278                  278  https://upload.wikimedia.org/wikipedia/commons...   \n",
       "279                  279  https://upload.wikimedia.org/wikipedia/commons...   \n",
       "\n",
       "                                          img_name         year  \n",
       "270                                  Self-Portrait  Autumn 1886  \n",
       "271                        Self-Portrait with Pipe         1886  \n",
       "272  Self-Portrait with Dark Felt Hat at the Easel         1886  \n",
       "278                        Self-Portrait with Pipe         1886  \n",
       "279               Self-Portrait with Dark Felt Hat         1886  "
      ]
     },
     "execution_count": 3,
     "metadata": {},
     "output_type": "execute_result"
    }
   ],
   "source": [
    "\n",
    "portrait_df = output.iloc[portrait_idx_list, :]\n",
    "portrait_df = portrait_df.iloc[:, : 4].rename(columns = {0: 'original_table_index', 2: 'img_name', 3: 'year'})\n",
    "portrait_df = portrait_df.drop(1, axis =1)\n",
    "portrait_df.insert(1, 'img_url', self_portrait_url)\n",
    "\n",
    "portrait_df.to_csv('van_gogh_portrait.csv')\n",
    "\n",
    "portrait_df.head()\n",
    "\n"
   ]
  },
  {
   "cell_type": "code",
   "execution_count": null,
   "metadata": {},
   "outputs": [],
   "source": []
  },
  {
   "cell_type": "markdown",
   "metadata": {},
   "source": [
    "### download all self-portraits"
   ]
  },
  {
   "cell_type": "code",
   "execution_count": null,
   "metadata": {},
   "outputs": [],
   "source": []
  },
  {
   "cell_type": "code",
   "execution_count": 31,
   "metadata": {},
   "outputs": [],
   "source": [
    "exception = []\n",
    "\n",
    "for i in range(portrait_df.shape[0]):\n",
    "    \n",
    "    try:\n",
    "        url = portrait_df['img_url'].iloc[i]\n",
    "        img_name = portrait_df['img_name'].iloc[i]\n",
    "        year_recorded = portrait_df['year'].iloc[i]\n",
    "        year = re.findall(r'\\d{4}', year_recorded)\n",
    "\n",
    "        name = str(i) + '_' + img_name + '_' + year[0] + '.jpg'\n",
    "\n",
    "        urllib.request.urlretrieve(url, os.path.join('./self_portrait_van_gogh', name))\n",
    "        \n",
    "    except FileNotFoundError:\n",
    "        \n",
    "        exception.append(i)\n"
   ]
  },
  {
   "cell_type": "code",
   "execution_count": 28,
   "metadata": {},
   "outputs": [
    {
     "name": "stdout",
     "output_type": "stream",
     "text": [
      "https://upload.wikimedia.org/wikipedia/commons/c/c6/Van_Gogh_-_Selbstbildnis34.jpeg\n"
     ]
    }
   ],
   "source": [
    "for i in range(len(exception)):\n",
    "    print (portrait_df.iloc[exception[i]]['img_url'])\n",
    "    "
   ]
  },
  {
   "cell_type": "code",
   "execution_count": null,
   "metadata": {},
   "outputs": [],
   "source": []
  },
  {
   "cell_type": "markdown",
   "metadata": {},
   "source": [
    "### gerneate palette bar"
   ]
  },
  {
   "cell_type": "code",
   "execution_count": null,
   "metadata": {},
   "outputs": [],
   "source": [
    "portraits = glob.glob('./self_portrait_van_gogh/*.jpg')\n",
    "\n",
    "for i in range(len(portraits)):\n",
    "    \n",
    "    img_dir = portraits[i]\n",
    "    img = cv2.imread(img_dir)\n",
    "\n",
    "    img_wpalette = generate_palette_plot(img)\n",
    "    file_name = os.path.join('self_portrait_wcolor_palette', 'palette_' + portraits[i].split('/')[-1])\n",
    "\n",
    "    plt.imsave(file_name, img_wpalette)\n",
    "    "
   ]
  },
  {
   "cell_type": "code",
   "execution_count": null,
   "metadata": {},
   "outputs": [],
   "source": []
  },
  {
   "cell_type": "code",
   "execution_count": null,
   "metadata": {},
   "outputs": [],
   "source": []
  },
  {
   "cell_type": "code",
   "execution_count": null,
   "metadata": {},
   "outputs": [],
   "source": []
  },
  {
   "cell_type": "markdown",
   "metadata": {},
   "source": [
    "\n",
    "- In 1886, Van Gogh immersed himself in the avant-garde art scene of Paris and experimented with the Pointillist technique, learning to employ the brush to create rhythmic patterns and adopting the use of contrasting hues and complimentary colors that have come to characterize his style.\n",
    "\n",
    "- Throughout 1887, Vincent continues his work in Paris. He frequents cafes with other painters and argues about art with Bernard and Gauguin. Over the course of the year, Vincent experiments with some different styles, including Japonaiseries and pointillism.\n",
    "\n",
    "- In February of 1888, Van Gogh traveled to Arles to pursue his long-held interest in painting the lives of peasants in the vein of Jean-François Millet and Jules Breton (including his series of the postman, Joseph Roulin, and his family). On Christmas Eve 1888, Van Gogh threatened his friend Paul Gauguin and subsequently cut his own ear in a fit of violent passion.\n",
    "\n",
    "- On 8 May 1889, Van Gogh institutionalised himself at the Saint Paul-de-Mausole mental asylum at Saint-Rémy-de-Provence. He found no companionship among the other inmates (many of whom were clinically insane) but began painting once more (his famous series of olive groves and cypresses).\n",
    "\n",
    "- On 27 July 1890, Van Gogh returned from the fields covered with blood. This might have been a suicide attempt or an accident. He finally died in his brother Theo’s arms two days later.\n"
   ]
  },
  {
   "cell_type": "markdown",
   "metadata": {},
   "source": []
  },
  {
   "cell_type": "code",
   "execution_count": null,
   "metadata": {},
   "outputs": [],
   "source": []
  },
  {
   "cell_type": "markdown",
   "metadata": {},
   "source": [
    "- 12/05/1883 - 11/24/1885 Nuenen\n",
    "- 02/28/1886 - 02/19/1888 Paris\n",
    "- 02/20/1888 - 05/08/1889 Arles\n",
    "- 05/08/1889 - 05/16/1890 St.Remy\n",
    "- 05/20/1890 - 07/29/1890 Auvers-sur-Oise"
   ]
  }
 ],
 "metadata": {
  "kernelspec": {
   "display_name": "Python 3",
   "language": "python",
   "name": "python3"
  },
  "language_info": {
   "codemirror_mode": {
    "name": "ipython",
    "version": 3
   },
   "file_extension": ".py",
   "mimetype": "text/x-python",
   "name": "python",
   "nbconvert_exporter": "python",
   "pygments_lexer": "ipython3",
   "version": "3.6.6"
  }
 },
 "nbformat": 4,
 "nbformat_minor": 2
}
